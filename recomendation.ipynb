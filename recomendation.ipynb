{
 "cells": [
  {
   "cell_type": "code",
   "execution_count": 90,
   "metadata": {},
   "outputs": [],
   "source": [
    "import pandas as pd\n",
    "import numpy as np\n",
    "from sklearn.model_selection import train_test_split\n",
    "from sklearn import metrics\n",
    "from sklearn import tree\n",
    "from sklearn.metrics import classification_report"
   ]
  },
  {
   "cell_type": "code",
   "execution_count": 103,
   "metadata": {},
   "outputs": [],
   "source": [
    "df = pd.read_csv('Crop_recommendation.csv')\n",
    "df\n",
    "df = df.drop(columns=['P','K'])"
   ]
  },
  {
   "cell_type": "code",
   "execution_count": 104,
   "metadata": {},
   "outputs": [
    {
     "data": {
      "text/plain": [
       "N                int64\n",
       "temperature    float64\n",
       "humidity       float64\n",
       "ph             float64\n",
       "rainfall       float64\n",
       "label           object\n",
       "dtype: object"
      ]
     },
     "execution_count": 104,
     "metadata": {},
     "output_type": "execute_result"
    }
   ],
   "source": [
    "df.dtypes"
   ]
  },
  {
   "cell_type": "code",
   "execution_count": 93,
   "metadata": {},
   "outputs": [],
   "source": [
    "features = df.loc[:,df.columns.values != 'label']\n",
    "labels = df['label']"
   ]
  },
  {
   "cell_type": "code",
   "execution_count": 105,
   "metadata": {},
   "outputs": [
    {
     "data": {
      "text/plain": [
       "count    2200.000000\n",
       "mean       50.551818\n",
       "std        36.917334\n",
       "min         0.000000\n",
       "25%        21.000000\n",
       "50%        37.000000\n",
       "75%        84.250000\n",
       "max       140.000000\n",
       "Name: N, dtype: float64"
      ]
     },
     "execution_count": 105,
     "metadata": {},
     "output_type": "execute_result"
    }
   ],
   "source": [
    "df['N'].describe()"
   ]
  },
  {
   "cell_type": "code",
   "execution_count": 124,
   "metadata": {},
   "outputs": [
    {
     "data": {
      "text/plain": [
       "count    2200.000000\n",
       "mean      103.463655\n",
       "std        54.958389\n",
       "min        20.211267\n",
       "25%        64.551686\n",
       "50%        94.867624\n",
       "75%       124.267508\n",
       "max       298.560117\n",
       "Name: rainfall, dtype: float64"
      ]
     },
     "execution_count": 124,
     "metadata": {},
     "output_type": "execute_result"
    }
   ],
   "source": [
    "df['rainfall'].describe()"
   ]
  },
  {
   "cell_type": "code",
   "execution_count": 94,
   "metadata": {},
   "outputs": [],
   "source": [
    "X_train,X_test,y_train,y_test = train_test_split(features,labels,test_size=0.2,random_state=42)"
   ]
  },
  {
   "cell_type": "code",
   "execution_count": 132,
   "metadata": {},
   "outputs": [
    {
     "name": "stdout",
     "output_type": "stream",
     "text": [
      "              precision    recall  f1-score   support\n",
      "\n",
      "       apple       0.59      0.96      0.73        23\n",
      "      banana       0.65      0.62      0.63        21\n",
      "   blackgram       0.67      1.00      0.80        20\n",
      "    chickpea       0.96      0.96      0.96        26\n",
      "     coconut       1.00      1.00      1.00        27\n",
      "      coffee       1.00      1.00      1.00        17\n",
      "      cotton       0.68      1.00      0.81        17\n",
      "      grapes       1.00      1.00      1.00        14\n",
      "        jute       1.00      0.35      0.52        23\n",
      " kidneybeans       1.00      0.95      0.97        20\n",
      "      lentil       0.42      1.00      0.59        11\n",
      "       maize       0.95      0.95      0.95        21\n",
      "       mango       0.79      1.00      0.88        19\n",
      "   mothbeans       0.00      0.00      0.00        24\n",
      "    mungbean       1.00      1.00      1.00        19\n",
      "   muskmelon       1.00      1.00      1.00        17\n",
      "      orange       0.48      0.79      0.59        14\n",
      "      papaya       1.00      0.70      0.82        23\n",
      "  pigeonpeas       1.00      0.78      0.88        23\n",
      " pomegranate       0.00      0.00      0.00        23\n",
      "        rice       0.56      1.00      0.72        19\n",
      "  watermelon       1.00      1.00      1.00        19\n",
      "\n",
      "    accuracy                           0.80       440\n",
      "   macro avg       0.76      0.82      0.77       440\n",
      "weighted avg       0.76      0.80      0.76       440\n",
      "\n"
     ]
    },
    {
     "name": "stderr",
     "output_type": "stream",
     "text": [
      "C:\\Users\\marwa\\Desktop\\NASA\\AI\\env\\Lib\\site-packages\\sklearn\\metrics\\_classification.py:1531: UndefinedMetricWarning: Precision is ill-defined and being set to 0.0 in labels with no predicted samples. Use `zero_division` parameter to control this behavior.\n",
      "  _warn_prf(average, modifier, f\"{metric.capitalize()} is\", len(result))\n",
      "C:\\Users\\marwa\\Desktop\\NASA\\AI\\env\\Lib\\site-packages\\sklearn\\metrics\\_classification.py:1531: UndefinedMetricWarning: Precision is ill-defined and being set to 0.0 in labels with no predicted samples. Use `zero_division` parameter to control this behavior.\n",
      "  _warn_prf(average, modifier, f\"{metric.capitalize()} is\", len(result))\n",
      "C:\\Users\\marwa\\Desktop\\NASA\\AI\\env\\Lib\\site-packages\\sklearn\\metrics\\_classification.py:1531: UndefinedMetricWarning: Precision is ill-defined and being set to 0.0 in labels with no predicted samples. Use `zero_division` parameter to control this behavior.\n",
      "  _warn_prf(average, modifier, f\"{metric.capitalize()} is\", len(result))\n"
     ]
    }
   ],
   "source": [
    "from sklearn.tree import DecisionTreeClassifier\n",
    "from sklearn import metrics\n",
    "DecisionTree = DecisionTreeClassifier(criterion=\"entropy\",random_state=42,max_depth=5)\n",
    "\n",
    "DecisionTree.fit(X_train,y_train)\n",
    "\n",
    "predicted_values = DecisionTree.predict(X_test)\n",
    "x = metrics.accuracy_score(y_test, predicted_values)\n",
    "print(classification_report(y_test,predicted_values))"
   ]
  },
  {
   "cell_type": "code",
   "execution_count": 96,
   "metadata": {},
   "outputs": [],
   "source": [
    "import pickle\n",
    "DT_pkl_filename = 'DecisionTree.pkl'\n",
    "# Open the file to save as pkl file\n",
    "DT_Model_pkl = open(DT_pkl_filename, 'wb')\n",
    "pickle.dump(DecisionTree, DT_Model_pkl)\n",
    "# Close the pickle instances\n",
    "DT_Model_pkl.close()"
   ]
  },
  {
   "cell_type": "code",
   "execution_count": 131,
   "metadata": {},
   "outputs": [
    {
     "name": "stdout",
     "output_type": "stream",
     "text": [
      "              precision    recall  f1-score   support\n",
      "\n",
      "       apple       1.00      0.91      0.95        23\n",
      "      banana       1.00      0.90      0.95        21\n",
      "   blackgram       0.95      1.00      0.98        20\n",
      "    chickpea       1.00      1.00      1.00        26\n",
      "     coconut       1.00      1.00      1.00        27\n",
      "      coffee       1.00      1.00      1.00        17\n",
      "      cotton       0.89      1.00      0.94        17\n",
      "      grapes       1.00      1.00      1.00        14\n",
      "        jute       0.92      1.00      0.96        23\n",
      " kidneybeans       1.00      1.00      1.00        20\n",
      "      lentil       0.85      1.00      0.92        11\n",
      "       maize       1.00      1.00      1.00        21\n",
      "       mango       0.86      1.00      0.93        19\n",
      "   mothbeans       1.00      0.88      0.93        24\n",
      "    mungbean       1.00      1.00      1.00        19\n",
      "   muskmelon       1.00      1.00      1.00        17\n",
      "      orange       0.87      0.93      0.90        14\n",
      "      papaya       1.00      1.00      1.00        23\n",
      "  pigeonpeas       1.00      0.87      0.93        23\n",
      " pomegranate       0.92      0.96      0.94        23\n",
      "        rice       1.00      0.89      0.94        19\n",
      "  watermelon       1.00      1.00      1.00        19\n",
      "\n",
      "    accuracy                           0.97       440\n",
      "   macro avg       0.97      0.97      0.97       440\n",
      "weighted avg       0.97      0.97      0.97       440\n",
      "\n"
     ]
    }
   ],
   "source": [
    "from sklearn.ensemble import RandomForestClassifier\n",
    "\n",
    "RF = RandomForestClassifier(n_estimators=20, random_state=42)\n",
    "RF.fit(X_train,y_train)\n",
    "\n",
    "predicted_values = RF.predict(X_test)\n",
    "x = metrics.accuracy_score(y_test, predicted_values)\n",
    "print(classification_report(y_test,predicted_values))"
   ]
  },
  {
   "cell_type": "code",
   "execution_count": 100,
   "metadata": {},
   "outputs": [],
   "source": [
    "import pickle\n",
    "# Dump the trained Naive Bayes classifier with Pickle\n",
    "RF_pkl_filename = 'RandomForest.pkl'\n",
    "# Open the file to save as pkl file\n",
    "RF_Model_pkl = open(RF_pkl_filename, 'wb')\n",
    "pickle.dump(RF, RF_Model_pkl)\n",
    "# Close the pickle instances\n",
    "RF_Model_pkl.close()"
   ]
  },
  {
   "cell_type": "code",
   "execution_count": 101,
   "metadata": {},
   "outputs": [
    {
     "name": "stderr",
     "output_type": "stream",
     "text": [
      "C:\\Users\\marwa\\Desktop\\NASA\\AI\\env\\Lib\\site-packages\\sklearn\\base.py:493: UserWarning: X does not have valid feature names, but RandomForestClassifier was fitted with feature names\n",
      "  warnings.warn(\n"
     ]
    },
    {
     "data": {
      "text/plain": [
       "array([[0.1 , 0.  , 0.  , 0.  , 0.  , 0.  , 0.  , 0.05, 0.  , 0.  , 0.  ,\n",
       "        0.  , 0.  , 0.  , 0.  , 0.  , 0.3 , 0.  , 0.  , 0.55, 0.  , 0.  ]])"
      ]
     },
     "execution_count": 101,
     "metadata": {},
     "output_type": "execute_result"
    }
   ],
   "source": [
    "proba_prd = RF.predict_proba([X_test.iloc[22]])\n",
    "proba_prd\n",
    "# RF.classes_\n",
    "proba_prd"
   ]
  },
  {
   "cell_type": "code",
   "execution_count": 128,
   "metadata": {},
   "outputs": [
    {
     "name": "stdout",
     "output_type": "stream",
     "text": [
      "              precision    recall  f1-score   support\n",
      "\n",
      "       apple       0.61      0.83      0.70        23\n",
      "      banana       0.86      0.90      0.88        21\n",
      "   blackgram       0.91      1.00      0.95        20\n",
      "    chickpea       0.93      1.00      0.96        26\n",
      "     coconut       0.96      1.00      0.98        27\n",
      "      coffee       1.00      0.88      0.94        17\n",
      "      cotton       0.89      0.94      0.91        17\n",
      "      grapes       1.00      1.00      1.00        14\n",
      "        jute       0.76      0.96      0.85        23\n",
      " kidneybeans       0.95      0.90      0.92        20\n",
      "      lentil       0.77      0.91      0.83        11\n",
      "       maize       1.00      0.86      0.92        21\n",
      "       mango       0.76      1.00      0.86        19\n",
      "   mothbeans       0.95      0.83      0.89        24\n",
      "    mungbean       0.90      1.00      0.95        19\n",
      "   muskmelon       1.00      1.00      1.00        17\n",
      "      orange       0.83      0.71      0.77        14\n",
      "      papaya       1.00      0.83      0.90        23\n",
      "  pigeonpeas       1.00      0.70      0.82        23\n",
      " pomegranate       0.76      0.57      0.65        23\n",
      "        rice       0.94      0.79      0.86        19\n",
      "  watermelon       1.00      1.00      1.00        19\n",
      "\n",
      "    accuracy                           0.89       440\n",
      "   macro avg       0.90      0.89      0.89       440\n",
      "weighted avg       0.90      0.89      0.89       440\n",
      "\n"
     ]
    }
   ],
   "source": [
    "from sklearn.neighbors import KNeighborsClassifier\n",
    "KNN = KNeighborsClassifier()\n",
    "KNN.fit(X_train,y_train)\n",
    "predicted_values = KNN.predict(X_test)\n",
    "print(classification_report(y_test,predicted_values))"
   ]
  },
  {
   "cell_type": "code",
   "execution_count": 133,
   "metadata": {},
   "outputs": [
    {
     "name": "stderr",
     "output_type": "stream",
     "text": [
      "C:\\Users\\marwa\\Desktop\\NASA\\AI\\env\\Lib\\site-packages\\sklearn\\base.py:493: UserWarning: X does not have valid feature names, but DecisionTreeClassifier was fitted with feature names\n",
      "  warnings.warn(\n"
     ]
    },
    {
     "data": {
      "text/plain": [
       "array(['cotton'], dtype=object)"
      ]
     },
     "execution_count": 133,
     "metadata": {},
     "output_type": "execute_result"
    }
   ],
   "source": [
    "input = [features.loc[1].tolist()]\n",
    "\n",
    "DecisionTree.predict([[113,22,79,7.388,90.422]])"
   ]
  },
  {
   "cell_type": "code",
   "execution_count": 123,
   "metadata": {},
   "outputs": [
    {
     "data": {
      "text/plain": [
       "{'apple': np.float64(0.1),\n",
       " 'banana': np.float64(0.0),\n",
       " 'blackgram': np.float64(0.0),\n",
       " 'chickpea': np.float64(0.0),\n",
       " 'coconut': np.float64(0.0),\n",
       " 'coffee': np.float64(0.0),\n",
       " 'cotton': np.float64(0.0),\n",
       " 'grapes': np.float64(0.05),\n",
       " 'jute': np.float64(0.0),\n",
       " 'kidneybeans': np.float64(0.0),\n",
       " 'lentil': np.float64(0.0),\n",
       " 'maize': np.float64(0.0),\n",
       " 'mango': np.float64(0.0),\n",
       " 'mothbeans': np.float64(0.0),\n",
       " 'mungbean': np.float64(0.0),\n",
       " 'muskmelon': np.float64(0.0),\n",
       " 'orange': np.float64(0.3),\n",
       " 'papaya': np.float64(0.0),\n",
       " 'pigeonpeas': np.float64(0.0),\n",
       " 'pomegranate': np.float64(0.55),\n",
       " 'rice': np.float64(0.0),\n",
       " 'watermelon': np.float64(0.0)}"
      ]
     },
     "execution_count": 123,
     "metadata": {},
     "output_type": "execute_result"
    }
   ],
   "source": [
    "probs = {\n",
    "    RF.classes_[i]:proba_prd[0][i]\n",
    "    for i in range(len(RF.classes_))\n",
    "}\n",
    "probs"
   ]
  },
  {
   "cell_type": "code",
   "execution_count": null,
   "metadata": {},
   "outputs": [],
   "source": []
  }
 ],
 "metadata": {
  "kernelspec": {
   "display_name": "Python 3 (ipykernel)",
   "language": "python",
   "name": "python3"
  },
  "language_info": {
   "codemirror_mode": {
    "name": "ipython",
    "version": 3
   },
   "file_extension": ".py",
   "mimetype": "text/x-python",
   "name": "python",
   "nbconvert_exporter": "python",
   "pygments_lexer": "ipython3",
   "version": "3.12.0"
  }
 },
 "nbformat": 4,
 "nbformat_minor": 2
}
